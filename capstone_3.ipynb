{
 "cells": [
  {
   "cell_type": "code",
   "execution_count": 3,
   "metadata": {},
   "outputs": [],
   "source": [
    "#import os\n",
    "import json\n",
    "import pandas as pd\n",
    "\n"
   ]
  },
  {
   "cell_type": "code",
   "execution_count": 4,
   "metadata": {},
   "outputs": [],
   "source": [
    "\n",
    "# Open the JSON file\n",
    "with open(r'C:\\Users\\kesav\\Guvi\\airbn.json', 'r') as file:\n",
    "    # Load the JSON data\n",
    "    data = json.load(file)\n",
    "# Now 'data' contains the contents of the JSON file\n",
    "# You can access the data like you would with any Python dictionary\n"
   ]
  },
  {
   "cell_type": "code",
   "execution_count": 5,
   "metadata": {},
   "outputs": [],
   "source": [
    "D1= {'listing_id':[],'listing_url':[],'host_id':[],'host_name':[],'host_location':[],\n",
    "     'listing_name':[],'listing_street':[],'suburb':[],'government_area':[],'market':[],'country':[],'country_code':[],\n",
    "     'longitude':[],'latitude':[],'is_location_exact':[],\n",
    "     'availability_365':[],'listing_description':[],'rules':[],'property_type':[],\n",
    "     'room_type':[],'bed_type':[],'min_stay':[],'max_stay':[],'cancel_policy':[],\n",
    "     'last_update':[],'accommodates':[],'bedrooms':[],'beds':[],'bathrooms':[],'total_review':[],\n",
    "    'price':[],'security_deposit':[],'cleaning_fee':[],'extra_people':[],'guests_included':[],\n",
    "    'images':[],'review_scores_rating':[]\n",
    "     }"
   ]
  },
  {
   "cell_type": "code",
   "execution_count": 6,
   "metadata": {},
   "outputs": [],
   "source": [
    "for i in data:\n",
    "    D1['listing_id'].append(i.get('_id',None))\n",
    "    D1['listing_url'].append(i.get('listing_url',None))\n",
    "    D1['host_id'].append(i['host'].get('host_id',None))\n",
    "    D1['host_name'].append(i['host'].get('host_name',None))\n",
    "    D1['host_location'].append(i['host'].get('host_location',None))\n",
    "    D1['listing_name'].append(i.get('name',None)) \n",
    "    D1['listing_street'].append(i['address'].get('street',None))\n",
    "    D1['suburb'].append(i['address'].get('suburb',None))\n",
    "    D1['government_area'].append(i['address'].get('government_area',None))\n",
    "    D1['market'].append(i['address'].get('market',None))\n",
    "    D1['country'].append(i['address'].get('country',None))\n",
    "    D1['country_code'].append(i['address'].get('country_code',None))\n",
    "    \n",
    "    D1['longitude'].append(i['address']['location']['coordinates'][0])\n",
    "    D1['latitude'].append(i['address']['location']['coordinates'][1])\n",
    "    \n",
    "    D1['is_location_exact'].append(i['address']['location'].get('is_location_exact',None))\n",
    "    D1['availability_365'].append(i['availability'].get('availability_365',None))\n",
    "    D1['listing_description'].append(i.get('description',None))\n",
    "    D1['rules'].append(i.get('house_rules',None))\n",
    "    D1['property_type'].append(i.get('property_type',None))\n",
    "    D1['room_type'].append(i.get('room_type',None))\n",
    "    D1['bed_type'].append(i.get('bed_type',None))\n",
    "    D1['min_stay'].append(i.get('minimum_nights',None))\n",
    "    D1['max_stay'].append(i.get('maximum_nights',None))\n",
    "    D1['cancel_policy'].append(i.get('cancellation_policy',None))\n",
    "    D1['last_update'].append(i.get('last_scraped',None))\n",
    "    D1['accommodates'].append(i.get('accommodates',None))\n",
    "    D1['bedrooms'].append(i.get('bedrooms',None))\n",
    "    D1['beds'].append(i.get('beds',None))\n",
    "    D1['bathrooms'].append(i.get('bathrooms',None))\n",
    "    D1['total_review'].append(i.get('number_of_reviews',None))\n",
    "    D1['price'].append(i.get('price',None))\n",
    "    D1['security_deposit'].append(i.get('security_deposit',None))\n",
    "    D1['cleaning_fee'].append(i.get('cleaning_fee',None))\n",
    "    D1['extra_people'].append(i.get('extra_people',None))\n",
    "    D1['guests_included'].append(i.get('guests_included',None))\n",
    "    D1['images'].append(i['images'].get('picture_url',None))\n",
    "    D1['review_scores_rating'].append(i['review_scores'].get('review_scores_rating',None))\n"
   ]
  },
  {
   "cell_type": "code",
   "execution_count": 7,
   "metadata": {},
   "outputs": [
    {
     "name": "stdout",
     "output_type": "stream",
     "text": [
      "{'listing_id': 5555, 'listing_url': 5555, 'host_id': 5555, 'host_name': 5555, 'host_location': 5555, 'listing_name': 5555, 'listing_street': 5555, 'suburb': 5555, 'government_area': 5555, 'market': 5555, 'country': 5555, 'country_code': 5555, 'longitude': 5555, 'latitude': 5555, 'is_location_exact': 5555, 'availability_365': 5555, 'listing_description': 5555, 'rules': 5555, 'property_type': 5555, 'room_type': 5555, 'bed_type': 5555, 'min_stay': 5555, 'max_stay': 5555, 'cancel_policy': 5555, 'last_update': 5555, 'accommodates': 5555, 'bedrooms': 5555, 'beds': 5555, 'bathrooms': 5555, 'total_review': 5555, 'price': 5555, 'security_deposit': 5555, 'cleaning_fee': 5555, 'extra_people': 5555, 'guests_included': 5555, 'images': 5555, 'review_scores_rating': 5555}\n"
     ]
    }
   ],
   "source": [
    "lengths_dict = {}\n",
    "for key, value in D1.items():\n",
    "    lengths_dict[key] = len(value)\n",
    "\n",
    "# Print lengths\n",
    "print(lengths_dict)"
   ]
  },
  {
   "cell_type": "code",
   "execution_count": 8,
   "metadata": {},
   "outputs": [],
   "source": [
    "Df1=pd.DataFrame(D1)"
   ]
  },
  {
   "cell_type": "code",
   "execution_count": 9,
   "metadata": {},
   "outputs": [
    {
     "name": "stdout",
     "output_type": "stream",
     "text": [
      "<class 'pandas.core.frame.DataFrame'>\n",
      "RangeIndex: 5555 entries, 0 to 5554\n",
      "Data columns (total 37 columns):\n",
      " #   Column                Non-Null Count  Dtype  \n",
      "---  ------                --------------  -----  \n",
      " 0   listing_id            5555 non-null   object \n",
      " 1   listing_url           5555 non-null   object \n",
      " 2   host_id               5555 non-null   object \n",
      " 3   host_name             5555 non-null   object \n",
      " 4   host_location         5555 non-null   object \n",
      " 5   listing_name          5555 non-null   object \n",
      " 6   listing_street        5555 non-null   object \n",
      " 7   suburb                5555 non-null   object \n",
      " 8   government_area       5555 non-null   object \n",
      " 9   market                5555 non-null   object \n",
      " 10  country               5555 non-null   object \n",
      " 11  country_code          5555 non-null   object \n",
      " 12  longitude             5555 non-null   float64\n",
      " 13  latitude              5555 non-null   float64\n",
      " 14  is_location_exact     5555 non-null   bool   \n",
      " 15  availability_365      5555 non-null   int64  \n",
      " 16  listing_description   5555 non-null   object \n",
      " 17  rules                 5555 non-null   object \n",
      " 18  property_type         5555 non-null   object \n",
      " 19  room_type             5555 non-null   object \n",
      " 20  bed_type              5555 non-null   object \n",
      " 21  min_stay              5555 non-null   object \n",
      " 22  max_stay              5555 non-null   object \n",
      " 23  cancel_policy         5555 non-null   object \n",
      " 24  last_update           5555 non-null   object \n",
      " 25  accommodates          5555 non-null   int64  \n",
      " 26  bedrooms              5550 non-null   float64\n",
      " 27  beds                  5542 non-null   float64\n",
      " 28  bathrooms             5545 non-null   float64\n",
      " 29  total_review          5555 non-null   int64  \n",
      " 30  price                 5555 non-null   float64\n",
      " 31  security_deposit      3471 non-null   float64\n",
      " 32  cleaning_fee          4024 non-null   float64\n",
      " 33  extra_people          5555 non-null   float64\n",
      " 34  guests_included       5555 non-null   float64\n",
      " 35  images                5555 non-null   object \n",
      " 36  review_scores_rating  4081 non-null   float64\n",
      "dtypes: bool(1), float64(11), int64(3), object(22)\n",
      "memory usage: 1.5+ MB\n"
     ]
    }
   ],
   "source": [
    "Df1.info()"
   ]
  },
  {
   "cell_type": "markdown",
   "metadata": {},
   "source": [
    "to find if there are any duplicated listing_id in the data frame"
   ]
  },
  {
   "cell_type": "code",
   "execution_count": 10,
   "metadata": {},
   "outputs": [
    {
     "name": "stdout",
     "output_type": "stream",
     "text": [
      "0\n"
     ]
    }
   ],
   "source": [
    "double=Df1.duplicated(subset = 'listing_id', keep = False)\n",
    "print(double.sum())"
   ]
  },
  {
   "cell_type": "code",
   "execution_count": null,
   "metadata": {},
   "outputs": [],
   "source": []
  },
  {
   "cell_type": "code",
   "execution_count": 11,
   "metadata": {},
   "outputs": [],
   "source": [
    "Df1['listing_id']=Df1['listing_id'].astype(str)\n",
    "Df1['host_id']=Df1['host_id'].astype(str)"
   ]
  },
  {
   "cell_type": "code",
   "execution_count": 12,
   "metadata": {},
   "outputs": [
    {
     "data": {
      "text/plain": [
       "array(['Apartment', 'Bed and breakfast', 'Guesthouse', 'Hostel',\n",
       "       'Serviced apartment', 'Loft', 'House', 'Condominium', 'Treehouse',\n",
       "       'Guest suite', 'Bungalow', 'Townhouse', 'Villa', 'Cabin', 'Other',\n",
       "       'Farm stay', 'Chalet', 'Boutique hotel', 'Cottage', 'Boat',\n",
       "       'Earth house', 'Aparthotel', 'Resort', 'Tiny house',\n",
       "       'Nature lodge', 'Hotel', 'Camper/RV', 'Casa particular (Cuba)',\n",
       "       'Barn', 'Hut', 'Heritage hotel (India)', 'Pension (South Korea)',\n",
       "       'Campsite', 'Castle', 'Houseboat', 'Train'], dtype=object)"
      ]
     },
     "execution_count": 12,
     "metadata": {},
     "output_type": "execute_result"
    }
   ],
   "source": [
    "Df1['property_type'].unique()"
   ]
  },
  {
   "cell_type": "markdown",
   "metadata": {},
   "source": [
    "len(Df1['property_type'].unique())\n",
    "Categorization of property type"
   ]
  },
  {
   "cell_type": "markdown",
   "metadata": {},
   "source": [
    "Creating a dictionary to replace property type into 8 different types"
   ]
  },
  {
   "cell_type": "code",
   "execution_count": 13,
   "metadata": {},
   "outputs": [],
   "source": [
    "p_type={'Apartment':'Apartment','Serviced apartment':'Apartment','Aparthotel':'Apartment','Condominium':'Apartment',\n",
    "        'Bed and breakfast':'house_guest','Loft':'house_guest','Cabin':'house_guest','Guesthouse':'house_guest',\n",
    "        'Cottage':'house_guest','Hostel':'house_guest','Treehouse':'Eco_Stay','Campsite':'Eco_Stay','Hut':'Eco_Stay',\n",
    "        'Bungalow':'private_stay','Farm stay':'private_stay','Castle':'private_stay','Barn':'private_stay',\n",
    "        'House':'House','Townhouse':'House','Villa':'House','Chalet':'House','Earth house':'House',\n",
    "        'Tiny house':'House','Casa particular (Cuba)':'House','Hotel':'Hotel','Resort':'Hotel','Pension (South Korea)':'Hotel',\n",
    "       'Nature lodge':'Hotel','Guest suite':'Hotel','Heritage hotel (India)':'Hotel','Boutique hotel':'Hotel',\n",
    "       'Boat':'motor_stay','Camper/RV':'motor_stay','Houseboat':'motor_stay','Train':'motor_stay'\n",
    "       }"
   ]
  },
  {
   "cell_type": "markdown",
   "metadata": {},
   "source": [
    "Replacing 36 property type categories into 8 different types"
   ]
  },
  {
   "cell_type": "code",
   "execution_count": 14,
   "metadata": {},
   "outputs": [
    {
     "data": {
      "text/plain": [
       "array(['Apartment', 'house_guest', 'House', 'Eco_Stay', 'Hotel',\n",
       "       'private_stay', 'Other', 'motor_stay'], dtype=object)"
      ]
     },
     "execution_count": 14,
     "metadata": {},
     "output_type": "execute_result"
    }
   ],
   "source": [
    "Df1['property_type']=Df1['property_type'].replace(p_type)\n",
    "Df1['property_type'].unique()"
   ]
  },
  {
   "cell_type": "code",
   "execution_count": 15,
   "metadata": {},
   "outputs": [
    {
     "data": {
      "text/plain": [
       "array(['Private room', 'Entire home/apt', 'Shared room'], dtype=object)"
      ]
     },
     "execution_count": 15,
     "metadata": {},
     "output_type": "execute_result"
    }
   ],
   "source": [
    "Df1['room_type'].unique()"
   ]
  },
  {
   "cell_type": "code",
   "execution_count": 16,
   "metadata": {},
   "outputs": [
    {
     "data": {
      "text/plain": [
       "listing_id                 0\n",
       "listing_url                0\n",
       "host_id                    0\n",
       "host_name                  0\n",
       "host_location              0\n",
       "listing_name               0\n",
       "listing_street             0\n",
       "suburb                     0\n",
       "government_area            0\n",
       "market                     0\n",
       "country                    0\n",
       "country_code               0\n",
       "longitude                  0\n",
       "latitude                   0\n",
       "is_location_exact          0\n",
       "availability_365           0\n",
       "listing_description        0\n",
       "rules                      0\n",
       "property_type              0\n",
       "room_type                  0\n",
       "bed_type                   0\n",
       "min_stay                   0\n",
       "max_stay                   0\n",
       "cancel_policy              0\n",
       "last_update                0\n",
       "accommodates               0\n",
       "bedrooms                   5\n",
       "beds                      13\n",
       "bathrooms                 10\n",
       "total_review               0\n",
       "price                      0\n",
       "security_deposit        2084\n",
       "cleaning_fee            1531\n",
       "extra_people               0\n",
       "guests_included            0\n",
       "images                     0\n",
       "review_scores_rating    1474\n",
       "dtype: int64"
      ]
     },
     "execution_count": 16,
     "metadata": {},
     "output_type": "execute_result"
    }
   ],
   "source": [
    "Df1.isnull().sum()"
   ]
  },
  {
   "cell_type": "markdown",
   "metadata": {},
   "source": [
    "Fill  null values with a new value"
   ]
  },
  {
   "cell_type": "code",
   "execution_count": 17,
   "metadata": {},
   "outputs": [],
   "source": [
    "Df1['bedrooms']=Df1['bedrooms'].fillna(1)"
   ]
  },
  {
   "cell_type": "code",
   "execution_count": 18,
   "metadata": {},
   "outputs": [
    {
     "data": {
      "text/plain": [
       "0"
      ]
     },
     "execution_count": 18,
     "metadata": {},
     "output_type": "execute_result"
    }
   ],
   "source": [
    "Df1['bedrooms'].isnull().sum()"
   ]
  },
  {
   "cell_type": "code",
   "execution_count": 19,
   "metadata": {},
   "outputs": [
    {
     "data": {
      "text/plain": [
       "13"
      ]
     },
     "execution_count": 19,
     "metadata": {},
     "output_type": "execute_result"
    }
   ],
   "source": [
    "Df1['beds'].isnull().sum()"
   ]
  },
  {
   "cell_type": "code",
   "execution_count": 20,
   "metadata": {},
   "outputs": [],
   "source": [
    "Df1['beds']=Df1['beds'].fillna(1)"
   ]
  },
  {
   "cell_type": "code",
   "execution_count": 21,
   "metadata": {},
   "outputs": [
    {
     "data": {
      "text/plain": [
       "0"
      ]
     },
     "execution_count": 21,
     "metadata": {},
     "output_type": "execute_result"
    }
   ],
   "source": [
    "Df1['beds'].isnull().sum()"
   ]
  },
  {
   "cell_type": "code",
   "execution_count": 22,
   "metadata": {},
   "outputs": [
    {
     "data": {
      "text/plain": [
       "10"
      ]
     },
     "execution_count": 22,
     "metadata": {},
     "output_type": "execute_result"
    }
   ],
   "source": [
    "Df1['bathrooms'].isnull().sum()"
   ]
  },
  {
   "cell_type": "code",
   "execution_count": 23,
   "metadata": {},
   "outputs": [],
   "source": [
    "Df1['bathrooms']=Df1['bathrooms'].fillna(1)"
   ]
  },
  {
   "cell_type": "code",
   "execution_count": 24,
   "metadata": {},
   "outputs": [
    {
     "data": {
      "text/plain": [
       "0"
      ]
     },
     "execution_count": 24,
     "metadata": {},
     "output_type": "execute_result"
    }
   ],
   "source": [
    "Df1['bathrooms'].isnull().sum()"
   ]
  },
  {
   "cell_type": "code",
   "execution_count": 25,
   "metadata": {},
   "outputs": [
    {
     "data": {
      "text/plain": [
       "property_type\n",
       "Apartment       514.925635\n",
       "Eco_Stay        100.000000\n",
       "Hotel           189.821053\n",
       "House           622.610278\n",
       "Other           371.777778\n",
       "house_guest     368.676617\n",
       "motor_stay        0.000000\n",
       "private_stay    234.375000\n",
       "Name: security_deposit, dtype: float64"
      ]
     },
     "execution_count": 25,
     "metadata": {},
     "output_type": "execute_result"
    }
   ],
   "source": [
    "Df1.groupby('property_type').security_deposit.mean()"
   ]
  },
  {
   "cell_type": "markdown",
   "metadata": {},
   "source": [
    "Replacing security deposit NAN values with mean security deposit values grouped by property type"
   ]
  },
  {
   "cell_type": "code",
   "execution_count": 26,
   "metadata": {},
   "outputs": [
    {
     "data": {
      "text/plain": [
       "2084"
      ]
     },
     "execution_count": 26,
     "metadata": {},
     "output_type": "execute_result"
    }
   ],
   "source": [
    "Df1['security_deposit'].isnull().sum()"
   ]
  },
  {
   "cell_type": "code",
   "execution_count": 27,
   "metadata": {},
   "outputs": [],
   "source": [
    "Df1.loc[(Df1['security_deposit'].isna()) & (Df1['property_type'] == 'Apartment'),'security_deposit'] = 514.925635\n",
    "Df1.loc[(Df1['security_deposit'].isna()) & (Df1['property_type'] == 'Eco_Stay'),'security_deposit']  =  100.000000\n",
    "Df1.loc[(Df1['security_deposit'].isna()) & (Df1['property_type'] == 'Hotel'),'security_deposit'] = 189.821053\n",
    "Df1.loc[(Df1['security_deposit'].isna()) & (Df1['property_type'] == 'House'),'security_deposit'] = 622.610278\n",
    "Df1.loc[(Df1['security_deposit'].isna()) & (Df1['property_type'] == 'Other'),'security_deposit'] = 371.777778\n",
    "Df1.loc[(Df1['security_deposit'].isna()) & (Df1['property_type'] == 'motor_stay'),'security_deposit'] = 0.000000\n",
    "Df1.loc[(Df1['security_deposit'].isna()) & (Df1['property_type'] == 'private_stay'),'security_deposit'] = 234.375000\n",
    "Df1.loc[(Df1['security_deposit'].isna()) & (Df1['property_type'] == 'house_guest'),'security_deposit'] = 368.676617"
   ]
  },
  {
   "cell_type": "code",
   "execution_count": 28,
   "metadata": {},
   "outputs": [
    {
     "data": {
      "text/plain": [
       "0"
      ]
     },
     "execution_count": 28,
     "metadata": {},
     "output_type": "execute_result"
    }
   ],
   "source": [
    "Df1['security_deposit'].isnull().sum()"
   ]
  },
  {
   "cell_type": "code",
   "execution_count": 29,
   "metadata": {},
   "outputs": [
    {
     "data": {
      "text/plain": [
       "1531"
      ]
     },
     "execution_count": 29,
     "metadata": {},
     "output_type": "execute_result"
    }
   ],
   "source": [
    "Df1['cleaning_fee'].isnull().sum()"
   ]
  },
  {
   "cell_type": "markdown",
   "metadata": {},
   "source": [
    "Finding the mean value of cleaning fee"
   ]
  },
  {
   "cell_type": "code",
   "execution_count": 30,
   "metadata": {},
   "outputs": [
    {
     "data": {
      "text/plain": [
       "property_type\n",
       "Apartment        90.849887\n",
       "Eco_Stay         36.666667\n",
       "Hotel            64.017544\n",
       "House           128.687386\n",
       "Other            91.846154\n",
       "house_guest      70.701422\n",
       "motor_stay       81.000000\n",
       "private_stay     80.300000\n",
       "Name: cleaning_fee, dtype: float64"
      ]
     },
     "execution_count": 30,
     "metadata": {},
     "output_type": "execute_result"
    }
   ],
   "source": [
    "Df1.groupby('property_type').cleaning_fee.mean()"
   ]
  },
  {
   "cell_type": "markdown",
   "metadata": {},
   "source": []
  },
  {
   "cell_type": "code",
   "execution_count": 31,
   "metadata": {},
   "outputs": [],
   "source": [
    "Df1.loc[(Df1['cleaning_fee'].isna()) & (Df1['property_type'] == 'Apartment'),'cleaning_fee'] = 90.849887\n",
    "Df1.loc[(Df1['cleaning_fee'].isna()) & (Df1['property_type'] == 'Eco_Stay'),'cleaning_fee']  =  36.666667\n",
    "Df1.loc[(Df1['cleaning_fee'].isna()) & (Df1['property_type'] == 'Hotel'),'cleaning_fee'] = 64.017544\n",
    "Df1.loc[(Df1['cleaning_fee'].isna()) & (Df1['property_type'] == 'House'),'cleaning_fee'] = 128.687386\n",
    "Df1.loc[(Df1['cleaning_fee'].isna()) & (Df1['property_type'] == 'Other'),'cleaning_fee'] = 91.846154\n",
    "Df1.loc[(Df1['cleaning_fee'].isna()) & (Df1['property_type'] == 'house_guest'),'cleaning_fee'] = 70.701422\n",
    "Df1.loc[(Df1['cleaning_fee'].isna()) & (Df1['property_type'] == 'motor_stay'),'cleaning_fee'] = 81.000000\n",
    "Df1.loc[(Df1['cleaning_fee'].isna()) & (Df1['property_type'] == 'private_stay'),'cleaning_fee'] = 80.300000\n"
   ]
  },
  {
   "cell_type": "code",
   "execution_count": 32,
   "metadata": {},
   "outputs": [
    {
     "data": {
      "text/plain": [
       "0"
      ]
     },
     "execution_count": 32,
     "metadata": {},
     "output_type": "execute_result"
    }
   ],
   "source": [
    "Df1['cleaning_fee'].isnull().sum()"
   ]
  },
  {
   "cell_type": "code",
   "execution_count": 33,
   "metadata": {},
   "outputs": [
    {
     "data": {
      "text/plain": [
       "1474"
      ]
     },
     "execution_count": 33,
     "metadata": {},
     "output_type": "execute_result"
    }
   ],
   "source": [
    "Df1['review_scores_rating'].isnull().sum()"
   ]
  },
  {
   "cell_type": "code",
   "execution_count": 34,
   "metadata": {},
   "outputs": [],
   "source": [
    "Df1['review_scores_rating']=Df1['review_scores_rating'].fillna(0)"
   ]
  },
  {
   "cell_type": "code",
   "execution_count": 35,
   "metadata": {},
   "outputs": [
    {
     "data": {
      "text/plain": [
       "0"
      ]
     },
     "execution_count": 35,
     "metadata": {},
     "output_type": "execute_result"
    }
   ],
   "source": [
    "Df1['review_scores_rating'].isnull().sum()"
   ]
  },
  {
   "cell_type": "code",
   "execution_count": 36,
   "metadata": {},
   "outputs": [],
   "source": [
    "#Df1.to_csv('Airbnb_data.csv',index=False)"
   ]
  },
  {
   "cell_type": "code",
   "execution_count": 37,
   "metadata": {},
   "outputs": [
    {
     "data": {
      "text/plain": [
       "array(['United States', 'Turkey', 'Hong Kong', 'Australia', 'Portugal',\n",
       "       'Brazil', 'Canada', 'Spain', 'China'], dtype=object)"
      ]
     },
     "execution_count": 37,
     "metadata": {},
     "output_type": "execute_result"
    }
   ],
   "source": [
    "Df1['country'].unique()"
   ]
  },
  {
   "cell_type": "code",
   "execution_count": 38,
   "metadata": {},
   "outputs": [
    {
     "data": {
      "text/html": [
       "<div>\n",
       "<style scoped>\n",
       "    .dataframe tbody tr th:only-of-type {\n",
       "        vertical-align: middle;\n",
       "    }\n",
       "\n",
       "    .dataframe tbody tr th {\n",
       "        vertical-align: top;\n",
       "    }\n",
       "\n",
       "    .dataframe thead th {\n",
       "        text-align: right;\n",
       "    }\n",
       "</style>\n",
       "<table border=\"1\" class=\"dataframe\">\n",
       "  <thead>\n",
       "    <tr style=\"text-align: right;\">\n",
       "      <th></th>\n",
       "      <th>listing_id</th>\n",
       "      <th>listing_url</th>\n",
       "      <th>host_id</th>\n",
       "      <th>host_name</th>\n",
       "      <th>host_location</th>\n",
       "      <th>listing_name</th>\n",
       "      <th>listing_street</th>\n",
       "      <th>suburb</th>\n",
       "      <th>government_area</th>\n",
       "      <th>market</th>\n",
       "      <th>...</th>\n",
       "      <th>beds</th>\n",
       "      <th>bathrooms</th>\n",
       "      <th>total_review</th>\n",
       "      <th>price</th>\n",
       "      <th>security_deposit</th>\n",
       "      <th>cleaning_fee</th>\n",
       "      <th>extra_people</th>\n",
       "      <th>guests_included</th>\n",
       "      <th>images</th>\n",
       "      <th>review_scores_rating</th>\n",
       "    </tr>\n",
       "  </thead>\n",
       "  <tbody>\n",
       "    <tr>\n",
       "      <th>0</th>\n",
       "      <td>1003530</td>\n",
       "      <td>https://www.airbnb.com/rooms/1003530</td>\n",
       "      <td>454250</td>\n",
       "      <td>Greta</td>\n",
       "      <td>New York, New York, United States</td>\n",
       "      <td>New York City - Upper West Side Apt</td>\n",
       "      <td>New York, NY, United States</td>\n",
       "      <td>Manhattan</td>\n",
       "      <td>Upper West Side</td>\n",
       "      <td>New York</td>\n",
       "      <td>...</td>\n",
       "      <td>1.0</td>\n",
       "      <td>1.0</td>\n",
       "      <td>70</td>\n",
       "      <td>135.0</td>\n",
       "      <td>0.000000</td>\n",
       "      <td>135.000000</td>\n",
       "      <td>0.0</td>\n",
       "      <td>1.0</td>\n",
       "      <td>https://a0.muscache.com/im/pictures/15074036/a...</td>\n",
       "      <td>94.0</td>\n",
       "    </tr>\n",
       "    <tr>\n",
       "      <th>1</th>\n",
       "      <td>10133554</td>\n",
       "      <td>https://www.airbnb.com/rooms/10133554</td>\n",
       "      <td>52004703</td>\n",
       "      <td>Mehmet Emin</td>\n",
       "      <td>Istanbul, İstanbul, Turkey</td>\n",
       "      <td>Double and triple rooms Blue mosque</td>\n",
       "      <td>Fatih , İstanbul, Turkey</td>\n",
       "      <td>Fatih</td>\n",
       "      <td>Fatih</td>\n",
       "      <td>Istanbul</td>\n",
       "      <td>...</td>\n",
       "      <td>2.0</td>\n",
       "      <td>1.0</td>\n",
       "      <td>29</td>\n",
       "      <td>121.0</td>\n",
       "      <td>368.676617</td>\n",
       "      <td>70.701422</td>\n",
       "      <td>0.0</td>\n",
       "      <td>1.0</td>\n",
       "      <td>https://a0.muscache.com/im/pictures/68de30b5-e...</td>\n",
       "      <td>92.0</td>\n",
       "    </tr>\n",
       "    <tr>\n",
       "      <th>2</th>\n",
       "      <td>10059872</td>\n",
       "      <td>https://www.airbnb.com/rooms/10059872</td>\n",
       "      <td>51624384</td>\n",
       "      <td>Giovanni</td>\n",
       "      <td>Hong Kong, Hong Kong</td>\n",
       "      <td>Soho Cozy, Spacious and Convenient</td>\n",
       "      <td>Hong Kong, Hong Kong Island, Hong Kong</td>\n",
       "      <td>Central &amp; Western District</td>\n",
       "      <td>Central &amp; Western</td>\n",
       "      <td>Hong Kong</td>\n",
       "      <td>...</td>\n",
       "      <td>2.0</td>\n",
       "      <td>1.0</td>\n",
       "      <td>3</td>\n",
       "      <td>699.0</td>\n",
       "      <td>514.925635</td>\n",
       "      <td>90.849887</td>\n",
       "      <td>0.0</td>\n",
       "      <td>1.0</td>\n",
       "      <td>https://a0.muscache.com/im/pictures/4533a1dc-6...</td>\n",
       "      <td>100.0</td>\n",
       "    </tr>\n",
       "    <tr>\n",
       "      <th>3</th>\n",
       "      <td>10084023</td>\n",
       "      <td>https://www.airbnb.com/rooms/10084023</td>\n",
       "      <td>51744313</td>\n",
       "      <td>Yi</td>\n",
       "      <td>United States</td>\n",
       "      <td>City center private room with bed</td>\n",
       "      <td>Hong Kong , 九龍, Hong Kong</td>\n",
       "      <td>Sham Shui Po District</td>\n",
       "      <td>Sham Shui Po</td>\n",
       "      <td>Hong Kong</td>\n",
       "      <td>...</td>\n",
       "      <td>1.0</td>\n",
       "      <td>1.0</td>\n",
       "      <td>81</td>\n",
       "      <td>181.0</td>\n",
       "      <td>0.000000</td>\n",
       "      <td>50.000000</td>\n",
       "      <td>100.0</td>\n",
       "      <td>1.0</td>\n",
       "      <td>https://a0.muscache.com/im/pictures/e6275515-7...</td>\n",
       "      <td>92.0</td>\n",
       "    </tr>\n",
       "    <tr>\n",
       "      <th>4</th>\n",
       "      <td>10091713</td>\n",
       "      <td>https://www.airbnb.com/rooms/10091713</td>\n",
       "      <td>13764143</td>\n",
       "      <td>Ben</td>\n",
       "      <td>New South Wales, Australia</td>\n",
       "      <td>Surry Hills Studio - Your Perfect Base in Sydney</td>\n",
       "      <td>Surry Hills, NSW, Australia</td>\n",
       "      <td>Darlinghurst</td>\n",
       "      <td>Sydney</td>\n",
       "      <td>Sydney</td>\n",
       "      <td>...</td>\n",
       "      <td>1.0</td>\n",
       "      <td>1.0</td>\n",
       "      <td>64</td>\n",
       "      <td>181.0</td>\n",
       "      <td>300.000000</td>\n",
       "      <td>50.000000</td>\n",
       "      <td>0.0</td>\n",
       "      <td>1.0</td>\n",
       "      <td>https://a0.muscache.com/im/pictures/f8eaba4e-d...</td>\n",
       "      <td>95.0</td>\n",
       "    </tr>\n",
       "    <tr>\n",
       "      <th>...</th>\n",
       "      <td>...</td>\n",
       "      <td>...</td>\n",
       "      <td>...</td>\n",
       "      <td>...</td>\n",
       "      <td>...</td>\n",
       "      <td>...</td>\n",
       "      <td>...</td>\n",
       "      <td>...</td>\n",
       "      <td>...</td>\n",
       "      <td>...</td>\n",
       "      <td>...</td>\n",
       "      <td>...</td>\n",
       "      <td>...</td>\n",
       "      <td>...</td>\n",
       "      <td>...</td>\n",
       "      <td>...</td>\n",
       "      <td>...</td>\n",
       "      <td>...</td>\n",
       "      <td>...</td>\n",
       "      <td>...</td>\n",
       "      <td>...</td>\n",
       "    </tr>\n",
       "    <tr>\n",
       "      <th>5550</th>\n",
       "      <td>9985696</td>\n",
       "      <td>https://www.airbnb.com/rooms/9985696</td>\n",
       "      <td>51303748</td>\n",
       "      <td>Eren</td>\n",
       "      <td>Kadikoy, Çanakkale, Turkey</td>\n",
       "      <td>Kadıköy-Altıyol</td>\n",
       "      <td>Kadıköy, İstanbul, Turkey</td>\n",
       "      <td>Moda</td>\n",
       "      <td>Kadikoy</td>\n",
       "      <td>Istanbul</td>\n",
       "      <td>...</td>\n",
       "      <td>3.0</td>\n",
       "      <td>1.0</td>\n",
       "      <td>0</td>\n",
       "      <td>501.0</td>\n",
       "      <td>622.610278</td>\n",
       "      <td>128.687386</td>\n",
       "      <td>0.0</td>\n",
       "      <td>1.0</td>\n",
       "      <td>https://a0.muscache.com/im/pictures/e40d18b2-1...</td>\n",
       "      <td>0.0</td>\n",
       "    </tr>\n",
       "    <tr>\n",
       "      <th>5551</th>\n",
       "      <td>9993190</td>\n",
       "      <td>https://www.airbnb.com/rooms/9993190</td>\n",
       "      <td>51013381</td>\n",
       "      <td>Coconut Condos</td>\n",
       "      <td>Lahaina, Hawaii, United States</td>\n",
       "      <td>Just Steps from the Ocean at Premier Platinum ...</td>\n",
       "      <td>Lahaina, HI, United States</td>\n",
       "      <td>Lahaina</td>\n",
       "      <td>Lahaina</td>\n",
       "      <td>Maui</td>\n",
       "      <td>...</td>\n",
       "      <td>4.0</td>\n",
       "      <td>2.0</td>\n",
       "      <td>15</td>\n",
       "      <td>220.0</td>\n",
       "      <td>200.000000</td>\n",
       "      <td>315.000000</td>\n",
       "      <td>0.0</td>\n",
       "      <td>1.0</td>\n",
       "      <td>https://a0.muscache.com/im/pictures/be1978c5-6...</td>\n",
       "      <td>92.0</td>\n",
       "    </tr>\n",
       "    <tr>\n",
       "      <th>5552</th>\n",
       "      <td>9887054</td>\n",
       "      <td>https://www.airbnb.com/rooms/9887054</td>\n",
       "      <td>31386255</td>\n",
       "      <td>Cat</td>\n",
       "      <td>Hong Kong</td>\n",
       "      <td>Quarry Bay fully furnished studio C</td>\n",
       "      <td>Hong Kong, Hong Kong Island, Hong Kong</td>\n",
       "      <td>Quarry Bay</td>\n",
       "      <td>Eastern</td>\n",
       "      <td>Hong Kong</td>\n",
       "      <td>...</td>\n",
       "      <td>1.0</td>\n",
       "      <td>1.0</td>\n",
       "      <td>4</td>\n",
       "      <td>400.0</td>\n",
       "      <td>3000.000000</td>\n",
       "      <td>90.849887</td>\n",
       "      <td>300.0</td>\n",
       "      <td>2.0</td>\n",
       "      <td>https://a0.muscache.com/im/pictures/a39e3f36-9...</td>\n",
       "      <td>85.0</td>\n",
       "    </tr>\n",
       "    <tr>\n",
       "      <th>5553</th>\n",
       "      <td>9907907</td>\n",
       "      <td>https://www.airbnb.com/rooms/9907907</td>\n",
       "      <td>47615848</td>\n",
       "      <td>Lucy</td>\n",
       "      <td>Bondi Beach, New South Wales, Australia</td>\n",
       "      <td>Large double room in Bondi</td>\n",
       "      <td>Bondi Beach, NSW, Australia</td>\n",
       "      <td>Bondi</td>\n",
       "      <td>Waverley</td>\n",
       "      <td>Sydney</td>\n",
       "      <td>...</td>\n",
       "      <td>1.0</td>\n",
       "      <td>1.0</td>\n",
       "      <td>0</td>\n",
       "      <td>60.0</td>\n",
       "      <td>514.925635</td>\n",
       "      <td>50.000000</td>\n",
       "      <td>50.0</td>\n",
       "      <td>2.0</td>\n",
       "      <td>https://a0.muscache.com/im/pictures/17a8857a-6...</td>\n",
       "      <td>0.0</td>\n",
       "    </tr>\n",
       "    <tr>\n",
       "      <th>5554</th>\n",
       "      <td>9936016</td>\n",
       "      <td>https://www.airbnb.com/rooms/9936016</td>\n",
       "      <td>47092481</td>\n",
       "      <td>Aliane</td>\n",
       "      <td>BR</td>\n",
       "      <td>Alugo Apartamento na Tijuca</td>\n",
       "      <td>Rio de Janeiro, Rio de Janeiro, Brazil</td>\n",
       "      <td>Lapa</td>\n",
       "      <td>Centro</td>\n",
       "      <td>Rio De Janeiro</td>\n",
       "      <td>...</td>\n",
       "      <td>2.0</td>\n",
       "      <td>2.0</td>\n",
       "      <td>0</td>\n",
       "      <td>750.0</td>\n",
       "      <td>514.925635</td>\n",
       "      <td>90.849887</td>\n",
       "      <td>0.0</td>\n",
       "      <td>1.0</td>\n",
       "      <td>https://a0.muscache.com/im/pictures/9d939095-f...</td>\n",
       "      <td>0.0</td>\n",
       "    </tr>\n",
       "  </tbody>\n",
       "</table>\n",
       "<p>5555 rows × 37 columns</p>\n",
       "</div>"
      ],
      "text/plain": [
       "     listing_id                            listing_url   host_id  \\\n",
       "0       1003530   https://www.airbnb.com/rooms/1003530    454250   \n",
       "1      10133554  https://www.airbnb.com/rooms/10133554  52004703   \n",
       "2      10059872  https://www.airbnb.com/rooms/10059872  51624384   \n",
       "3      10084023  https://www.airbnb.com/rooms/10084023  51744313   \n",
       "4      10091713  https://www.airbnb.com/rooms/10091713  13764143   \n",
       "...         ...                                    ...       ...   \n",
       "5550    9985696   https://www.airbnb.com/rooms/9985696  51303748   \n",
       "5551    9993190   https://www.airbnb.com/rooms/9993190  51013381   \n",
       "5552    9887054   https://www.airbnb.com/rooms/9887054  31386255   \n",
       "5553    9907907   https://www.airbnb.com/rooms/9907907  47615848   \n",
       "5554    9936016   https://www.airbnb.com/rooms/9936016  47092481   \n",
       "\n",
       "           host_name                            host_location  \\\n",
       "0              Greta        New York, New York, United States   \n",
       "1        Mehmet Emin               Istanbul, İstanbul, Turkey   \n",
       "2           Giovanni                     Hong Kong, Hong Kong   \n",
       "3                 Yi                            United States   \n",
       "4                Ben               New South Wales, Australia   \n",
       "...              ...                                      ...   \n",
       "5550            Eren               Kadikoy, Çanakkale, Turkey   \n",
       "5551  Coconut Condos           Lahaina, Hawaii, United States   \n",
       "5552             Cat                                Hong Kong   \n",
       "5553            Lucy  Bondi Beach, New South Wales, Australia   \n",
       "5554          Aliane                                       BR   \n",
       "\n",
       "                                           listing_name  \\\n",
       "0                   New York City - Upper West Side Apt   \n",
       "1                   Double and triple rooms Blue mosque   \n",
       "2                    Soho Cozy, Spacious and Convenient   \n",
       "3                     City center private room with bed   \n",
       "4      Surry Hills Studio - Your Perfect Base in Sydney   \n",
       "...                                                 ...   \n",
       "5550                                    Kadıköy-Altıyol   \n",
       "5551  Just Steps from the Ocean at Premier Platinum ...   \n",
       "5552                Quarry Bay fully furnished studio C   \n",
       "5553                         Large double room in Bondi   \n",
       "5554                        Alugo Apartamento na Tijuca   \n",
       "\n",
       "                              listing_street                      suburb  \\\n",
       "0                New York, NY, United States                   Manhattan   \n",
       "1                   Fatih , İstanbul, Turkey                       Fatih   \n",
       "2     Hong Kong, Hong Kong Island, Hong Kong  Central & Western District   \n",
       "3                  Hong Kong , 九龍, Hong Kong       Sham Shui Po District   \n",
       "4                Surry Hills, NSW, Australia                Darlinghurst   \n",
       "...                                      ...                         ...   \n",
       "5550               Kadıköy, İstanbul, Turkey                        Moda   \n",
       "5551              Lahaina, HI, United States                     Lahaina   \n",
       "5552  Hong Kong, Hong Kong Island, Hong Kong                  Quarry Bay   \n",
       "5553             Bondi Beach, NSW, Australia                       Bondi   \n",
       "5554  Rio de Janeiro, Rio de Janeiro, Brazil                        Lapa   \n",
       "\n",
       "        government_area          market  ... beds bathrooms  total_review  \\\n",
       "0       Upper West Side        New York  ...  1.0       1.0            70   \n",
       "1                 Fatih        Istanbul  ...  2.0       1.0            29   \n",
       "2     Central & Western       Hong Kong  ...  2.0       1.0             3   \n",
       "3          Sham Shui Po       Hong Kong  ...  1.0       1.0            81   \n",
       "4                Sydney          Sydney  ...  1.0       1.0            64   \n",
       "...                 ...             ...  ...  ...       ...           ...   \n",
       "5550            Kadikoy        Istanbul  ...  3.0       1.0             0   \n",
       "5551            Lahaina            Maui  ...  4.0       2.0            15   \n",
       "5552            Eastern       Hong Kong  ...  1.0       1.0             4   \n",
       "5553           Waverley          Sydney  ...  1.0       1.0             0   \n",
       "5554             Centro  Rio De Janeiro  ...  2.0       2.0             0   \n",
       "\n",
       "      price  security_deposit  cleaning_fee extra_people guests_included  \\\n",
       "0     135.0          0.000000    135.000000          0.0             1.0   \n",
       "1     121.0        368.676617     70.701422          0.0             1.0   \n",
       "2     699.0        514.925635     90.849887          0.0             1.0   \n",
       "3     181.0          0.000000     50.000000        100.0             1.0   \n",
       "4     181.0        300.000000     50.000000          0.0             1.0   \n",
       "...     ...               ...           ...          ...             ...   \n",
       "5550  501.0        622.610278    128.687386          0.0             1.0   \n",
       "5551  220.0        200.000000    315.000000          0.0             1.0   \n",
       "5552  400.0       3000.000000     90.849887        300.0             2.0   \n",
       "5553   60.0        514.925635     50.000000         50.0             2.0   \n",
       "5554  750.0        514.925635     90.849887          0.0             1.0   \n",
       "\n",
       "                                                 images review_scores_rating  \n",
       "0     https://a0.muscache.com/im/pictures/15074036/a...                 94.0  \n",
       "1     https://a0.muscache.com/im/pictures/68de30b5-e...                 92.0  \n",
       "2     https://a0.muscache.com/im/pictures/4533a1dc-6...                100.0  \n",
       "3     https://a0.muscache.com/im/pictures/e6275515-7...                 92.0  \n",
       "4     https://a0.muscache.com/im/pictures/f8eaba4e-d...                 95.0  \n",
       "...                                                 ...                  ...  \n",
       "5550  https://a0.muscache.com/im/pictures/e40d18b2-1...                  0.0  \n",
       "5551  https://a0.muscache.com/im/pictures/be1978c5-6...                 92.0  \n",
       "5552  https://a0.muscache.com/im/pictures/a39e3f36-9...                 85.0  \n",
       "5553  https://a0.muscache.com/im/pictures/17a8857a-6...                  0.0  \n",
       "5554  https://a0.muscache.com/im/pictures/9d939095-f...                  0.0  \n",
       "\n",
       "[5555 rows x 37 columns]"
      ]
     },
     "execution_count": 38,
     "metadata": {},
     "output_type": "execute_result"
    }
   ],
   "source": [
    "Df1"
   ]
  }
 ],
 "metadata": {
  "kernelspec": {
   "display_name": "Python 3",
   "language": "python",
   "name": "python3"
  },
  "language_info": {
   "codemirror_mode": {
    "name": "ipython",
    "version": 3
   },
   "file_extension": ".py",
   "mimetype": "text/x-python",
   "name": "python",
   "nbconvert_exporter": "python",
   "pygments_lexer": "ipython3",
   "version": "3.12.3"
  }
 },
 "nbformat": 4,
 "nbformat_minor": 2
}
